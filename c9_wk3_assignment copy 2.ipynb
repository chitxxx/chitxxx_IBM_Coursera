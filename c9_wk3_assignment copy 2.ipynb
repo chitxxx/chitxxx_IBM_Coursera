{
    "nbformat_minor": 1, 
    "cells": [
        {
            "source": "import pandas as pd", 
            "cell_type": "code", 
            "metadata": {}, 
            "outputs": [], 
            "execution_count": 1
        }, 
        {
            "source": "## Data Cleaning ", 
            "cell_type": "markdown", 
            "metadata": {}
        }, 
        {
            "source": "# loading data\nurl='https://en.wikipedia.org/wiki/List_of_postal_codes_of_Canada:_M'\ntable = pd.read_html(url, header=0,keep_default_na=False) \ndf = table[0]", 
            "cell_type": "code", 
            "metadata": {}, 
            "outputs": [], 
            "execution_count": 2
        }, 
        {
            "source": "#chaning column names\ndf.columns = ['PostalCode','Borough','Neighborhood']\n#removing irrelavent data\ndf=df[df.Borough != 'Not assigned']", 
            "cell_type": "code", 
            "metadata": {}, 
            "outputs": [], 
            "execution_count": 3
        }, 
        {
            "source": "#formatting data\ndf = df.groupby(['PostalCode'], sort=False).agg({'Borough':'first','Neighborhood':','.join})\ndf.Neighborhood = df.Borough.where(df.Neighborhood == 'Not assigned', df.Neighborhood)\ndf.head()", 
            "cell_type": "code", 
            "metadata": {}, 
            "outputs": [
                {
                    "output_type": "execute_result", 
                    "data": {
                        "text/plain": "                               Neighborhood           Borough\nPostalCode                                                   \nM3A                               Parkwoods        North York\nM4A                        Victoria Village        North York\nM5A                Harbourfront,Regent Park  Downtown Toronto\nM6A         Lawrence Heights,Lawrence Manor        North York\nM7A                            Queen's Park      Queen's Park", 
                        "text/html": "<div>\n<style scoped>\n    .dataframe tbody tr th:only-of-type {\n        vertical-align: middle;\n    }\n\n    .dataframe tbody tr th {\n        vertical-align: top;\n    }\n\n    .dataframe thead th {\n        text-align: right;\n    }\n</style>\n<table border=\"1\" class=\"dataframe\">\n  <thead>\n    <tr style=\"text-align: right;\">\n      <th></th>\n      <th>Neighborhood</th>\n      <th>Borough</th>\n    </tr>\n    <tr>\n      <th>PostalCode</th>\n      <th></th>\n      <th></th>\n    </tr>\n  </thead>\n  <tbody>\n    <tr>\n      <th>M3A</th>\n      <td>Parkwoods</td>\n      <td>North York</td>\n    </tr>\n    <tr>\n      <th>M4A</th>\n      <td>Victoria Village</td>\n      <td>North York</td>\n    </tr>\n    <tr>\n      <th>M5A</th>\n      <td>Harbourfront,Regent Park</td>\n      <td>Downtown Toronto</td>\n    </tr>\n    <tr>\n      <th>M6A</th>\n      <td>Lawrence Heights,Lawrence Manor</td>\n      <td>North York</td>\n    </tr>\n    <tr>\n      <th>M7A</th>\n      <td>Queen's Park</td>\n      <td>Queen's Park</td>\n    </tr>\n  </tbody>\n</table>\n</div>"
                    }, 
                    "execution_count": 4, 
                    "metadata": {}
                }
            ], 
            "execution_count": 4
        }, 
        {
            "source": "#shape of data\ndf.shape", 
            "cell_type": "code", 
            "metadata": {}, 
            "outputs": [
                {
                    "output_type": "execute_result", 
                    "data": {
                        "text/plain": "(103, 2)"
                    }, 
                    "execution_count": 5, 
                    "metadata": {}
                }
            ], 
            "execution_count": 5
        }, 
        {
            "source": "## Geodata", 
            "cell_type": "markdown", 
            "metadata": {}
        }, 
        {
            "source": "df_g=pd.read_csv('https://cocl.us/Geospatial_data') \ndf_g.columns = ['PostalCode','Latitude','Longitude']", 
            "cell_type": "code", 
            "metadata": {}, 
            "outputs": [], 
            "execution_count": 6
        }, 
        {
            "source": "df_g.set_index(['PostalCode'], inplace=True)", 
            "cell_type": "code", 
            "metadata": {}, 
            "outputs": [], 
            "execution_count": 7
        }, 
        {
            "source": "df_g.head()", 
            "cell_type": "markdown", 
            "metadata": {}
        }, 
        {
            "source": "#merging geodata with data\ndf_f = pd.merge(df,df_g,left_index=True,right_index=True)", 
            "cell_type": "code", 
            "metadata": {}, 
            "outputs": [], 
            "execution_count": 8
        }, 
        {
            "source": "df_f.head()", 
            "cell_type": "code", 
            "metadata": {}, 
            "outputs": [
                {
                    "output_type": "execute_result", 
                    "data": {
                        "text/plain": "                               Neighborhood           Borough   Latitude  \\\nPostalCode                                                                 \nM3A                               Parkwoods        North York  43.753259   \nM4A                        Victoria Village        North York  43.725882   \nM5A                Harbourfront,Regent Park  Downtown Toronto  43.654260   \nM6A         Lawrence Heights,Lawrence Manor        North York  43.718518   \nM7A                            Queen's Park      Queen's Park  43.662301   \n\n            Longitude  \nPostalCode             \nM3A        -79.329656  \nM4A        -79.315572  \nM5A        -79.360636  \nM6A        -79.464763  \nM7A        -79.389494  ", 
                        "text/html": "<div>\n<style scoped>\n    .dataframe tbody tr th:only-of-type {\n        vertical-align: middle;\n    }\n\n    .dataframe tbody tr th {\n        vertical-align: top;\n    }\n\n    .dataframe thead th {\n        text-align: right;\n    }\n</style>\n<table border=\"1\" class=\"dataframe\">\n  <thead>\n    <tr style=\"text-align: right;\">\n      <th></th>\n      <th>Neighborhood</th>\n      <th>Borough</th>\n      <th>Latitude</th>\n      <th>Longitude</th>\n    </tr>\n    <tr>\n      <th>PostalCode</th>\n      <th></th>\n      <th></th>\n      <th></th>\n      <th></th>\n    </tr>\n  </thead>\n  <tbody>\n    <tr>\n      <th>M3A</th>\n      <td>Parkwoods</td>\n      <td>North York</td>\n      <td>43.753259</td>\n      <td>-79.329656</td>\n    </tr>\n    <tr>\n      <th>M4A</th>\n      <td>Victoria Village</td>\n      <td>North York</td>\n      <td>43.725882</td>\n      <td>-79.315572</td>\n    </tr>\n    <tr>\n      <th>M5A</th>\n      <td>Harbourfront,Regent Park</td>\n      <td>Downtown Toronto</td>\n      <td>43.654260</td>\n      <td>-79.360636</td>\n    </tr>\n    <tr>\n      <th>M6A</th>\n      <td>Lawrence Heights,Lawrence Manor</td>\n      <td>North York</td>\n      <td>43.718518</td>\n      <td>-79.464763</td>\n    </tr>\n    <tr>\n      <th>M7A</th>\n      <td>Queen's Park</td>\n      <td>Queen's Park</td>\n      <td>43.662301</td>\n      <td>-79.389494</td>\n    </tr>\n  </tbody>\n</table>\n</div>"
                    }, 
                    "execution_count": 9, 
                    "metadata": {}
                }
            ], 
            "execution_count": 9
        }, 
        {
            "source": "## Creating borough map", 
            "cell_type": "markdown", 
            "metadata": {}
        }, 
        {
            "source": "!conda install -c conda-forge folium=0.5.0 --yes\nimport folium", 
            "cell_type": "code", 
            "metadata": {}, 
            "outputs": [
                {
                    "output_type": "stream", 
                    "name": "stdout", 
                    "text": "Solving environment: done\n\n## Package Plan ##\n\n  environment location: /opt/conda/envs/DSX-Python35\n\n  added / updated specs: \n    - folium=0.5.0\n\n\nThe following packages will be downloaded:\n\n    package                    |            build\n    ---------------------------|-----------------\n    folium-0.5.0               |             py_0          45 KB  conda-forge\n    altair-2.2.2               |           py35_1         462 KB  conda-forge\n    openssl-1.0.2r             |       h14c3975_0         3.1 MB  conda-forge\n    certifi-2018.8.24          |        py35_1001         139 KB  conda-forge\n    branca-0.3.1               |             py_0          25 KB  conda-forge\n    vincent-0.4.4              |             py_1          28 KB  conda-forge\n    ca-certificates-2019.3.9   |       hecc5488_0         146 KB  conda-forge\n    ------------------------------------------------------------\n                                           Total:         4.0 MB\n\nThe following NEW packages will be INSTALLED:\n\n    altair:          2.2.2-py35_1      conda-forge\n    branca:          0.3.1-py_0        conda-forge\n    folium:          0.5.0-py_0        conda-forge\n    vincent:         0.4.4-py_1        conda-forge\n\nThe following packages will be UPDATED:\n\n    ca-certificates: 2019.1.23-0                   --> 2019.3.9-hecc5488_0 conda-forge\n    certifi:         2018.8.24-py35_1              --> 2018.8.24-py35_1001 conda-forge\n    openssl:         1.0.2p-h14c3975_0             --> 1.0.2r-h14c3975_0   conda-forge\n\n\nDownloading and Extracting Packages\nfolium-0.5.0         | 45 KB     | ##################################### | 100% \naltair-2.2.2         | 462 KB    | ##################################### | 100% \nopenssl-1.0.2r       | 3.1 MB    | ##################################### | 100% \ncertifi-2018.8.24    | 139 KB    | ##################################### | 100% \nbranca-0.3.1         | 25 KB     | ##################################### | 100% \nvincent-0.4.4        | 28 KB     | ##################################### | 100% \nca-certificates-2019 | 146 KB    | ##################################### | 100% \nPreparing transaction: done\nVerifying transaction: done\nExecuting transaction: done\n"
                }
            ], 
            "execution_count": 11
        }, 
        {
            "source": "# create map of New York using latitude and longitude values\nmap_newyork = folium.Map(location=[43.65, 79.38]], zoom_start=10)\n\n# add markers to map\nfor lat, lng, borough, neighborhood in zip(df_f['Latitude'], df_f['Longitude'], df_f['Borough'], df_f['Neighborhood']):\n    label = '{}, {}'.format(neighborhood, borough)\n    label = folium.Popup(label, parse_html=True)\n    folium.CircleMarker(\n        [lat, lng],\n        radius=5,\n        popup=label,\n        color='blue',\n        fill=True,\n        fill_color='#3186cc',\n        fill_opacity=0.7,\n        parse_html=False).add_to(map_newyork)  \n    \nmap_newyork", 
            "cell_type": "code", 
            "metadata": {}, 
            "outputs": [], 
            "execution_count": null
        }, 
        {
            "source": "import requests # library to handle requests\nfrom pandas.io.json import json_normalize # tranform JSON file into a pandas dataframe", 
            "cell_type": "code", 
            "metadata": {}, 
            "outputs": [], 
            "execution_count": 10
        }, 
        {
            "source": "## forusquare api\n", 
            "cell_type": "markdown", 
            "metadata": {}
        }, 
        {
            "source": "CLIENT_ID = 'QG3FAGY2LNM1N3OZD4N31UUARD2CV3NAOB0C2M0L0YZ4XBYT' # your Foursquare ID\nCLIENT_SECRET = 'SZJDXIK31NZCBL3WIXHHF35Z4VBAYXL3DAIROEYX33O2OGCO' # your Foursquare Secret\nVERSION = '20180605' # Foursquare API version", 
            "cell_type": "code", 
            "metadata": {}, 
            "outputs": [], 
            "execution_count": 12
        }, 
        {
            "source": "def getNearbyVenues(names, latitudes, longitudes, radius=500):\n    \n    venues_list=[]\n    for name, lat, lng in zip(names, latitudes, longitudes):\n        print(name)\n            \n        # create the API request URL\n        url = 'https://api.foursquare.com/v2/venues/explore?&client_id={}&client_secret={}&v={}&ll={},{}&radius={}&limit={}'.format(\n            CLIENT_ID, \n            CLIENT_SECRET, \n            VERSION, \n            lat, \n            lng, \n            radius, \n            LIMIT)\n            \n        # make the GET request\n        results = requests.get(url).json()[\"response\"]['groups'][0]['items']\n        \n        # return only relevant information for each nearby venue\n        venues_list.append([(\n            name, \n            lat, \n            lng, \n            v['venue']['name'], \n            v['venue']['location']['lat'], \n            v['venue']['location']['lng'],  \n            v['venue']['categories'][0]['name']) for v in results])\n\n    nearby_venues = pd.DataFrame([item for venue_list in venues_list for item in venue_list])\n    nearby_venues.columns = ['Neighborhood', \n                  'Neighborhood Latitude', \n                  'Neighborhood Longitude', \n                  'Venue', \n                  'Venue Latitude', \n                  'Venue Longitude', \n                  'Venue Category']\n    \n    return(nearby_venues)", 
            "cell_type": "code", 
            "metadata": {}, 
            "outputs": [], 
            "execution_count": 25
        }, 
        {
            "source": "toronto_venues = getNearbyVenues(names=df_f['Neighborhood'],\n                                   latitudes=df_f['Latitude'],\n                                   longitudes=df_f['Longitude']\n                                  )", 
            "cell_type": "code", 
            "metadata": {}, 
            "outputs": [
                {
                    "output_type": "stream", 
                    "name": "stdout", 
                    "text": "Parkwoods\nVictoria Village\nHarbourfront,Regent Park\nLawrence Heights,Lawrence Manor\nQueen's Park\nIslington Avenue\nRouge,Malvern\nDon Mills North\nWoodbine Gardens,Parkview Hill\nRyerson,Garden District\nGlencairn\nCloverdale,Islington,Martin Grove,Princess Gardens,West Deane Park\nHighland Creek,Rouge Hill,Port Union\nFlemingdon Park,Don Mills South\nWoodbine Heights\nSt. James Town\nHumewood-Cedarvale\nBloordale Gardens,Eringate,Markland Wood,Old Burnhamthorpe\nGuildwood,Morningside,West Hill\nThe Beaches\nBerczy Park\nCaledonia-Fairbanks\nWoburn\nLeaside\nCentral Bay Street\nChristie\nCedarbrae\nHillcrest Village\nBathurst Manor,Downsview North,Wilson Heights\nThorncliffe Park\nAdelaide,King,Richmond\nDovercourt Village,Dufferin\nScarborough Village\nFairview,Henry Farm,Oriole\nNorthwood Park,York University\nEast Toronto\nHarbourfront East,Toronto Islands,Union Station\nLittle Portugal,Trinity\nEast Birchmount Park,Ionview,Kennedy Park\nBayview Village\nCFB Toronto,Downsview East\nThe Danforth West,Riverdale\nDesign Exchange,Toronto Dominion Centre\nBrockton,Exhibition Place,Parkdale Village\nClairlea,Golden Mile,Oakridge\nSilver Hills,York Mills\nDownsview West\nThe Beaches West,India Bazaar\nCommerce Court,Victoria Hotel\nDownsview,North Park,Upwood Park\nHumber Summit\nCliffcrest,Cliffside,Scarborough Village West\nNewtonbrook,Willowdale\nDownsview Central\nStudio District\nBedford Park,Lawrence Manor East\nDel Ray,Keelesdale,Mount Dennis,Silverthorn\nEmery,Humberlea\nBirch Cliff,Cliffside West\nWillowdale South\nDownsview Northwest\nLawrence Park\nRoselawn\nThe Junction North,Runnymede\nWeston\nDorset Park,Scarborough Town Centre,Wexford Heights\nYork Mills West\nDavisville North\nForest Hill North,Forest Hill West\nHigh Park,The Junction South\nWestmount\nMaryvale,Wexford\nWillowdale West\nNorth Toronto West\nThe Annex,North Midtown,Yorkville\nParkdale,Roncesvalles\nCanada Post Gateway Processing Centre\nKingsview Village,Martin Grove Gardens,Richview Gardens,St. Phillips\nAgincourt\nDavisville\nHarbord,University of Toronto\nRunnymede,Swansea\nClarks Corners,Sullivan,Tam O'Shanter\nMoore Park,Summerhill East\nChinatown,Grange Park,Kensington Market\nAgincourt North,L'Amoreaux East,Milliken,Steeles East\nDeer Park,Forest Hill SE,Rathnelly,South Hill,Summerhill West\nCN Tower,Bathurst Quay,Island airport,Harbourfront West,King and Spadina,Railway Lands,South Niagara\nHumber Bay Shores,Mimico South,New Toronto\nAlbion Gardens,Beaumond Heights,Humbergate,Jamestown,Mount Olive,Silverstone,South Steeles,Thistletown\nL'Amoreaux West\nRosedale\nStn A PO Boxes 25 The Esplanade\nAlderwood,Long Branch\nNorthwest\nUpper Rouge\nCabbagetown,St. James Town\nFirst Canadian Place,Underground city\nThe Kingsway,Montgomery Road,Old Mill North\nChurch and Wellesley\nBusiness Reply Mail Processing Centre 969 Eastern\nHumber Bay,King's Mill Park,Kingsway Park South East,Mimico NE,Old Mill South,The Queensway East,Royal York South East,Sunnylea\nKingsway Park South West,Mimico NW,The Queensway West,Royal York South West,South of Bloor\n"
                }
            ], 
            "execution_count": 26
        }, 
        {
            "source": "toronto_venues.groupby('Neighborhood').count()\ntoronto_onehot = pd.get_dummies(toronto_venues[['Venue Category']], prefix=\"\", prefix_sep=\"\")\ntoronto_onehot['Neighborhood'] = toronto_venues['Neighborhood'] \nfixed_columns = [toronto_onehot.columns[-1]] + list(toronto_onehot.columns[:-1])\ntoronto_onehot = toronto_onehot[fixed_columns]\ntoronto_grouped = toronto_onehot.groupby('Neighborhood').mean().reset_index()\n", 
            "cell_type": "code", 
            "metadata": {}, 
            "outputs": [], 
            "execution_count": 28
        }, 
        {
            "source": "num_top_venues = 5\n\nfor hood in toronto_grouped['Neighborhood']:\n    print(\"----\"+hood+\"----\")\n    temp = toronto_grouped[toronto_grouped['Neighborhood'] == hood].T.reset_index()\n    temp.columns = ['venue','freq']\n    temp = temp.iloc[1:]\n    temp['freq'] = temp['freq'].astype(float)\n    temp = temp.round({'freq': 2})\n    print(temp.sort_values('freq', ascending=False).reset_index(drop=True).head(num_top_venues))\n    print('\\n')", 
            "cell_type": "code", 
            "metadata": {}, 
            "outputs": [
                {
                    "output_type": "stream", 
                    "name": "stdout", 
                    "text": "----Adelaide,King,Richmond----\n              venue  freq\n0        Steakhouse  0.10\n1              Caf\u00e9  0.07\n2       Pizza Place  0.07\n3             Hotel  0.07\n4  Asian Restaurant  0.07\n\n\n----Agincourt----\n            venue  freq\n0          Lounge  0.25\n1  Breakfast Spot  0.25\n2    Skating Rink  0.25\n3  Sandwich Place  0.25\n4     Yoga Studio  0.00\n\n\n----Agincourt North,L'Amoreaux East,Milliken,Steeles East----\n            venue  freq\n0     Coffee Shop  0.33\n1      Playground  0.33\n2            Park  0.33\n3   Movie Theater  0.00\n4  Massage Studio  0.00\n\n\n----Albion Gardens,Beaumond Heights,Humbergate,Jamestown,Mount Olive,Silverstone,South Steeles,Thistletown----\n                  venue  freq\n0         Grocery Store  0.22\n1            Beer Store  0.11\n2   Fried Chicken Joint  0.11\n3  Fast Food Restaurant  0.11\n4              Pharmacy  0.11\n\n\n----Alderwood,Long Branch----\n                venue  freq\n0         Pizza Place   0.2\n1         Coffee Shop   0.1\n2  Athletics & Sports   0.1\n3            Pharmacy   0.1\n4                Pool   0.1\n\n\n----Bathurst Manor,Downsview North,Wilson Heights----\n           venue  freq\n0    Coffee Shop  0.11\n1     Restaurant  0.05\n2          Diner  0.05\n3    Bridal Shop  0.05\n4  Shopping Mall  0.05\n\n\n----Bayview Village----\n                 venue  freq\n0  Japanese Restaurant  0.25\n1                 Bank  0.25\n2   Chinese Restaurant  0.25\n3                 Caf\u00e9  0.25\n4          Yoga Studio  0.00\n\n\n----Bedford Park,Lawrence Manor East----\n                  venue  freq\n0           Coffee Shop  0.09\n1  Fast Food Restaurant  0.09\n2    Italian Restaurant  0.09\n3         Grocery Store  0.04\n4       Thai Restaurant  0.04\n\n\n----Berczy Park----\n                venue  freq\n0            Beer Bar  0.07\n1  Seafood Restaurant  0.07\n2      Farmers Market  0.07\n3                Caf\u00e9  0.07\n4        Cocktail Bar  0.07\n\n\n----Birch Cliff,Cliffside West----\n                   venue  freq\n0        College Stadium  0.25\n1           Skating Rink  0.25\n2  General Entertainment  0.25\n3                   Caf\u00e9  0.25\n4          Moving Target  0.00\n\n\n----Bloordale Gardens,Eringate,Markland Wood,Old Burnhamthorpe----\n               venue  freq\n0           Pharmacy  0.17\n1  Convenience Store  0.17\n2         Beer Store  0.17\n3       Liquor Store  0.17\n4               Caf\u00e9  0.17\n\n\n----Brockton,Exhibition Place,Parkdale Village----\n                    venue  freq\n0             Coffee Shop  0.11\n1                    Caf\u00e9  0.11\n2          Breakfast Spot  0.11\n3           Grocery Store  0.05\n4  Furniture / Home Store  0.05\n\n\n----Business Reply Mail Processing Centre 969 Eastern----\n                venue  freq\n0  Light Rail Station  0.12\n1         Yoga Studio  0.06\n2              Garden  0.06\n3         Pizza Place  0.06\n4                Park  0.06\n\n\n----CFB Toronto,Downsview East----\n           venue  freq\n0        Airport  0.33\n1           Park  0.33\n2    Snack Place  0.33\n3    Yoga Studio  0.00\n4  Movie Theater  0.00\n\n\n----CN Tower,Bathurst Quay,Island airport,Harbourfront West,King and Spadina,Railway Lands,South Niagara----\n              venue  freq\n0   Airport Service  0.20\n1    Airport Lounge  0.13\n2  Airport Terminal  0.13\n3   Harbor / Marina  0.07\n4             Plane  0.07\n\n\n----Cabbagetown,St. James Town----\n                venue  freq\n0                Caf\u00e9  0.07\n1          Restaurant  0.07\n2              Bakery  0.07\n3         Coffee Shop  0.07\n4  Italian Restaurant  0.07\n\n\n----Caledonia-Fairbanks----\n                  venue  freq\n0                  Park  0.33\n1         Women's Store  0.17\n2  Fast Food Restaurant  0.17\n3                Market  0.17\n4              Pharmacy  0.17\n\n\n----Canada Post Gateway Processing Centre----\n                 venue  freq\n0                Hotel   0.2\n1          Coffee Shop   0.2\n2  American Restaurant   0.1\n3       Sandwich Place   0.1\n4        Burrito Place   0.1\n\n\n----Cedarbrae----\n                  venue  freq\n0    Athletics & Sports  0.14\n1                  Bank  0.14\n2       Thai Restaurant  0.14\n3                Bakery  0.14\n4  Caribbean Restaurant  0.14\n\n\n----Central Bay Street----\n                venue  freq\n0         Coffee Shop  0.23\n1     Bubble Tea Shop  0.07\n2                 Spa  0.07\n3  Italian Restaurant  0.07\n4    Ramen Restaurant  0.03\n\n\n----Chinatown,Grange Park,Kensington Market----\n                   venue  freq\n0                   Caf\u00e9  0.10\n1     Mexican Restaurant  0.07\n2   Caribbean Restaurant  0.07\n3  Vietnamese Restaurant  0.07\n4                 Bakery  0.07\n\n\n----Christie----\n                venue  freq\n0       Grocery Store  0.19\n1                Caf\u00e9  0.19\n2                Park  0.12\n3               Diner  0.06\n4  Athletics & Sports  0.06\n\n\n----Church and Wellesley----\n                 venue  freq\n0              Gay Bar  0.07\n1  Japanese Restaurant  0.07\n2            Gastropub  0.03\n3            Juice Bar  0.03\n4            Bookstore  0.03\n\n\n----Clairlea,Golden Mile,Oakridge----\n                  venue  freq\n0              Bus Line  0.22\n1                Bakery  0.22\n2  Fast Food Restaurant  0.11\n3          Soccer Field  0.11\n4         Metro Station  0.11\n\n\n----Clarks Corners,Sullivan,Tam O'Shanter----\n                 venue  freq\n0          Pizza Place  0.18\n1      Thai Restaurant  0.09\n2         Noodle House  0.09\n3   Chinese Restaurant  0.09\n4  Rental Car Location  0.09\n\n\n----Cliffcrest,Cliffside,Scarborough Village West----\n                 venue  freq\n0  American Restaurant   0.5\n1                Motel   0.5\n2          Yoga Studio   0.0\n3        Movie Theater   0.0\n4               Market   0.0\n\n\n----Cloverdale,Islington,Martin Grove,Princess Gardens,West Deane Park----\n            venue  freq\n0     Golf Course   0.5\n1            Bank   0.5\n2     Yoga Studio   0.0\n3   Movie Theater   0.0\n4  Massage Studio   0.0\n\n\n----Commerce Court,Victoria Hotel----\n           venue  freq\n0           Caf\u00e9  0.17\n1  Deli / Bodega  0.10\n2    Coffee Shop  0.10\n3     Restaurant  0.07\n4            Gym  0.07\n\n\n----Davisville----\n              venue  freq\n0       Pizza Place  0.10\n1      Dessert Shop  0.10\n2    Sandwich Place  0.10\n3       Coffee Shop  0.07\n4  Sushi Restaurant  0.07\n\n\n----Davisville North----\n               venue  freq\n0                Gym  0.14\n1               Park  0.14\n2     Sandwich Place  0.14\n3  Food & Drink Shop  0.14\n4     Breakfast Spot  0.14\n\n\n----Deer Park,Forest Hill SE,Rathnelly,South Hill,Summerhill West----\n                 venue  freq\n0                  Pub  0.14\n1          Coffee Shop  0.14\n2   Light Rail Station  0.07\n3  American Restaurant  0.07\n4     Sushi Restaurant  0.07\n\n\n----Del Ray,Keelesdale,Mount Dennis,Silverthorn----\n               venue  freq\n0                Bar  0.25\n1  Convenience Store  0.25\n2     Discount Store  0.25\n3     Sandwich Place  0.25\n4        Yoga Studio  0.00\n\n\n----Design Exchange,Toronto Dominion Centre----\n           venue  freq\n0    Coffee Shop  0.13\n1     Restaurant  0.10\n2           Caf\u00e9  0.10\n3  Deli / Bodega  0.10\n4    Art Gallery  0.03\n\n\n----Don Mills North----\n                  venue  freq\n0  Gym / Fitness Center  0.25\n1  Caribbean Restaurant  0.25\n2                  Caf\u00e9  0.25\n3   Japanese Restaurant  0.25\n4                Museum  0.00\n\n\n----Dorset Park,Scarborough Town Centre,Wexford Heights----\n                       venue  freq\n0          Indian Restaurant  0.33\n1         Chinese Restaurant  0.17\n2                  Pet Store  0.17\n3      Vietnamese Restaurant  0.17\n4  Latin American Restaurant  0.17\n\n\n----Dovercourt Village,Dufferin----\n         venue  freq\n0     Pharmacy  0.10\n1  Supermarket  0.10\n2       Bakery  0.10\n3  Music Venue  0.05\n4      Brewery  0.05\n\n\n----Downsview Central----\n               venue  freq\n0   Business Service  0.25\n1     Baseball Field  0.25\n2  Korean Restaurant  0.25\n3         Food Truck  0.25\n4      Movie Theater  0.00\n\n\n----Downsview Northwest----\n                  venue  freq\n0         Grocery Store   0.2\n1    Athletics & Sports   0.2\n2        Discount Store   0.2\n3          Liquor Store   0.2\n4  Gym / Fitness Center   0.2\n\n\n----Downsview West----\n           venue  freq\n0  Grocery Store  0.25\n1           Bank  0.25\n2  Shopping Mall  0.25\n3  Moving Target  0.25\n4          Motel  0.00\n\n\n----Downsview,North Park,Upwood Park----\n                        venue  freq\n0              Massage Studio  0.25\n1                        Park  0.25\n2  Construction & Landscaping  0.25\n3                      Bakery  0.25\n4                 Yoga Studio  0.00\n\n\n----East Birchmount Park,Ionview,Kennedy Park----\n                   venue  freq\n0            Coffee Shop  0.25\n1            Bus Station  0.25\n2         Discount Store  0.25\n3       Department Store  0.25\n4  Performing Arts Venue  0.00\n\n\n----East Toronto----\n               venue  freq\n0               Park  0.50\n1      Metro Station  0.25\n2  Convenience Store  0.25\n3        Yoga Studio  0.00\n4      Movie Theater  0.00\n\n\n----Emery,Humberlea----\n"
                }, 
                {
                    "output_type": "stream", 
                    "name": "stdout", 
                    "text": "                        venue  freq\n0              Baseball Field   0.5\n1  Construction & Landscaping   0.5\n2                 Yoga Studio   0.0\n3               Movie Theater   0.0\n4              Massage Studio   0.0\n\n\n----Fairview,Henry Farm,Oriole----\n            venue  freq\n0  Clothing Store  0.17\n1     Coffee Shop  0.13\n2   Movie Theater  0.03\n3        Tea Room  0.03\n4   Smoothie Shop  0.03\n\n\n----First Canadian Place,Underground city----\n           venue  freq\n0           Caf\u00e9  0.13\n1    Coffee Shop  0.10\n2  Deli / Bodega  0.10\n3     Steakhouse  0.07\n4            Pub  0.03\n\n\n----Flemingdon Park,Don Mills South----\n              venue  freq\n0        Beer Store  0.10\n1               Gym  0.10\n2       Coffee Shop  0.10\n3  Asian Restaurant  0.10\n4     Grocery Store  0.05\n\n\n----Forest Hill North,Forest Hill West----\n              venue  freq\n0  Sushi Restaurant  0.25\n1             Trail  0.25\n2     Jewelry Store  0.25\n3          Bus Line  0.25\n4       Yoga Studio  0.00\n\n\n----Glencairn----\n                 venue  freq\n0                  Pub  0.25\n1               Bakery  0.25\n2               Arcade  0.25\n3  Japanese Restaurant  0.25\n4          Yoga Studio  0.00\n\n\n----Guildwood,Morningside,West Hill----\n                 venue  freq\n0          Pizza Place  0.12\n1  Rental Car Location  0.12\n2       Medical Center  0.12\n3    Electronics Store  0.12\n4       Breakfast Spot  0.12\n\n\n----Harbord,University of Toronto----\n        venue  freq\n0        Caf\u00e9  0.13\n1  Restaurant  0.07\n2         Bar  0.07\n3      Bakery  0.07\n4   Bookstore  0.07\n\n\n----Harbourfront East,Toronto Islands,Union Station----\n                 venue  freq\n0                 Caf\u00e9  0.07\n1                 Park  0.07\n2                Hotel  0.07\n3             Aquarium  0.07\n4  Sporting Goods Shop  0.03\n\n\n----Harbourfront,Regent Park----\n            venue  freq\n0     Coffee Shop  0.20\n1            Park  0.10\n2          Bakery  0.10\n3            Caf\u00e9  0.07\n4  Breakfast Spot  0.07\n\n\n----High Park,The Junction South----\n                venue  freq\n0                 Bar  0.09\n1                Caf\u00e9  0.09\n2  Mexican Restaurant  0.09\n3       Grocery Store  0.04\n4              Bakery  0.04\n\n\n----Highland Creek,Rouge Hill,Port Union----\n                venue  freq\n0                 Bar   1.0\n1         Yoga Studio   0.0\n2  Mac & Cheese Joint   0.0\n3              Market   0.0\n4      Massage Studio   0.0\n\n\n----Hillcrest Village----\n                      venue  freq\n0      Fast Food Restaurant  0.17\n1        Athletics & Sports  0.17\n2  Mediterranean Restaurant  0.17\n3               Golf Course  0.17\n4                      Pool  0.17\n\n\n----Humber Bay Shores,Mimico South,New Toronto----\n                 venue  freq\n0            Pet Store  0.07\n1  American Restaurant  0.07\n2                 Caf\u00e9  0.07\n3               Bakery  0.07\n4           Restaurant  0.07\n\n\n----Humber Bay,King's Mill Park,Kingsway Park South East,Mimico NE,Old Mill South,The Queensway East,Royal York South East,Sunnylea----\n                venue  freq\n0      Baseball Field   1.0\n1         Yoga Studio   0.0\n2  Mac & Cheese Joint   0.0\n3              Market   0.0\n4      Massage Studio   0.0\n\n\n----Humber Summit----\n                 venue  freq\n0          Pizza Place   0.5\n1  Empanada Restaurant   0.5\n2        Movie Theater   0.0\n3       Massage Studio   0.0\n4       Medical Center   0.0\n\n\n----Humewood-Cedarvale----\n          venue  freq\n0         Field  0.33\n1  Hockey Arena  0.33\n2         Trail  0.33\n3   Yoga Studio  0.00\n4         Motel  0.00\n\n\n----Kingsview Village,Martin Grove Gardens,Richview Gardens,St. Phillips----\n               venue  freq\n0        Pizza Place  0.25\n1           Bus Line  0.25\n2               Park  0.25\n3  Mobile Phone Shop  0.25\n4             Market  0.00\n\n\n----Kingsway Park South West,Mimico NW,The Queensway West,Royal York South West,South of Bloor----\n                    venue  freq\n0           Grocery Store  0.08\n1  Thrift / Vintage Store  0.08\n2             Social Club  0.08\n3            Burger Joint  0.08\n4           Burrito Place  0.08\n\n\n----L'Amoreaux West----\n                  venue  freq\n0         Grocery Store  0.15\n1    Chinese Restaurant  0.15\n2  Fast Food Restaurant  0.15\n3   Japanese Restaurant  0.08\n4           Coffee Shop  0.08\n\n\n----Lawrence Heights,Lawrence Manor----\n                    venue  freq\n0          Clothing Store  0.20\n1  Furniture / Home Store  0.20\n2           Women's Store  0.07\n3             Event Space  0.07\n4      Miscellaneous Shop  0.07\n\n\n----Lawrence Park----\n                        venue  freq\n0                        Park  0.25\n1  Construction & Landscaping  0.25\n2                 Swim School  0.25\n3                    Bus Line  0.25\n4                 Yoga Studio  0.00\n\n\n----Leaside----\n                    venue  freq\n0     Sporting Goods Shop  0.10\n1            Burger Joint  0.07\n2             Coffee Shop  0.07\n3  Furniture / Home Store  0.07\n4           Smoothie Shop  0.03\n\n\n----Little Portugal,Trinity----\n                   venue  freq\n0                    Bar  0.13\n1       Asian Restaurant  0.10\n2            Pizza Place  0.07\n3  Vietnamese Restaurant  0.07\n4       Cuban Restaurant  0.03\n\n\n----Maryvale,Wexford----\n                       venue  freq\n0             Breakfast Spot  0.14\n1                 Smoke Shop  0.14\n2  Middle Eastern Restaurant  0.14\n3                     Bakery  0.14\n4              Shopping Mall  0.14\n\n\n----Moore Park,Summerhill East----\n                       venue  freq\n0               Tennis Court  0.33\n1                 Playground  0.33\n2                      Trail  0.33\n3  Middle Eastern Restaurant  0.00\n4                      Motel  0.00\n\n\n----North Toronto West----\n                    venue  freq\n0          Clothing Store  0.15\n1             Coffee Shop  0.10\n2             Yoga Studio  0.05\n3  Furniture / Home Store  0.05\n4    Fast Food Restaurant  0.05\n\n\n----Northwest----\n                 venue  freq\n0                  Bar  0.33\n1            Drugstore  0.33\n2  Rental Car Location  0.33\n3          Yoga Studio  0.00\n4        Movie Theater  0.00\n\n\n----Northwood Park,York University----\n                    venue  freq\n0             Coffee Shop   0.2\n1  Furniture / Home Store   0.2\n2          Massage Studio   0.2\n3                     Bar   0.2\n4      Falafel Restaurant   0.2\n\n\n----Parkdale,Roncesvalles----\n                         venue  freq\n0                    Gift Shop  0.13\n1               Breakfast Spot  0.13\n2                          Bar  0.07\n3                Movie Theater  0.07\n4  Eastern European Restaurant  0.07\n\n\n----Parkwoods----\n                  venue  freq\n0  Fast Food Restaurant  0.25\n1                  Park  0.25\n2                  Pool  0.25\n3     Food & Drink Shop  0.25\n4           Yoga Studio  0.00\n\n\n----Queen's Park----\n                 venue  freq\n0          Coffee Shop  0.13\n1                  Gym  0.07\n2                Diner  0.07\n3  Japanese Restaurant  0.07\n4          Yoga Studio  0.03\n\n\n----Rosedale----\n         venue  freq\n0         Park  0.50\n1   Playground  0.25\n2        Trail  0.25\n3  Yoga Studio  0.00\n4        Motel  0.00\n\n\n----Roselawn----\n            venue  freq\n0          Garden   1.0\n1     Yoga Studio   0.0\n2   Movie Theater   0.0\n3          Market   0.0\n4  Massage Studio   0.0\n\n\n----Rouge,Malvern----\n                  venue  freq\n0  Fast Food Restaurant   1.0\n1           Yoga Studio   0.0\n2    Mac & Cheese Joint   0.0\n3                Market   0.0\n4        Massage Studio   0.0\n\n\n----Runnymede,Swansea----\n                venue  freq\n0                Caf\u00e9  0.13\n1    Sushi Restaurant  0.07\n2         Coffee Shop  0.07\n3  Italian Restaurant  0.07\n4           Bookstore  0.03\n\n\n----Ryerson,Garden District----\n            venue  freq\n0            Caf\u00e9  0.13\n1  Clothing Store  0.07\n2     Coffee Shop  0.03\n3         Theater  0.03\n4    Burger Joint  0.03\n\n\n----Scarborough Village----\n               venue  freq\n0         Playground   0.5\n1  Convenience Store   0.5\n2        Yoga Studio   0.0\n3      Movie Theater   0.0\n4     Massage Studio   0.0\n\n\n----Silver Hills,York Mills----\n            venue  freq\n0            Park   0.5\n1       Cafeteria   0.5\n2     Yoga Studio   0.0\n3   Movie Theater   0.0\n4  Massage Studio   0.0\n\n\n----St. James Town----\n                 venue  freq\n0          Coffee Shop  0.10\n1            Gastropub  0.10\n2           Restaurant  0.07\n3                  Gym  0.07\n4  Japanese Restaurant  0.07\n\n\n----Stn A PO Boxes 25 The Esplanade----\n                venue  freq\n0                Caf\u00e9  0.10\n1      Farmers Market  0.07\n2  Seafood Restaurant  0.07\n3        Cocktail Bar  0.07\n4          Restaurant  0.03\n\n\n----Studio District----\n                 venue  freq\n0                 Caf\u00e9  0.13\n1          Coffee Shop  0.10\n2  American Restaurant  0.07\n3   Italian Restaurant  0.07\n4               Bakery  0.07\n\n\n----The Annex,North Midtown,Yorkville----\n            venue  freq\n0            Caf\u00e9  0.12\n1     Coffee Shop  0.12\n2  Sandwich Place  0.12\n3     Pizza Place  0.08\n4        Pharmacy  0.04\n\n\n----The Beaches----\n"
                }, 
                {
                    "output_type": "stream", 
                    "name": "stdout", 
                    "text": "               venue  freq\n0  Health Food Store  0.25\n1                Pub  0.25\n2        Music Venue  0.25\n3        Yoga Studio  0.00\n4      Movie Theater  0.00\n\n\n----The Beaches West,India Bazaar----\n                venue  freq\n0                Park  0.09\n1      Sandwich Place  0.09\n2       Movie Theater  0.05\n3  Light Rail Station  0.05\n4          Steakhouse  0.05\n\n\n----The Danforth West,Riverdale----\n                venue  freq\n0    Greek Restaurant  0.27\n1      Ice Cream Shop  0.07\n2  Italian Restaurant  0.07\n3     Bubble Tea Shop  0.03\n4         Coffee Shop  0.03\n\n\n----The Junction North,Runnymede----\n                  venue  freq\n0         Grocery Store  0.25\n1     Convenience Store  0.25\n2  Caribbean Restaurant  0.25\n3              Bus Line  0.25\n4         Moving Target  0.00\n\n\n----The Kingsway,Montgomery Road,Old Mill North----\n            venue  freq\n0            Park   0.5\n1           River   0.5\n2     Yoga Studio   0.0\n3   Movie Theater   0.0\n4  Massage Studio   0.0\n\n\n----Thorncliffe Park----\n               venue  freq\n0     Sandwich Place  0.12\n1  Indian Restaurant  0.12\n2        Yoga Studio  0.06\n3               Bank  0.06\n4    Warehouse Store  0.06\n\n\n----Victoria Village----\n                   venue  freq\n0            Coffee Shop  0.25\n1  Portuguese Restaurant  0.25\n2           Hockey Arena  0.25\n3            Pizza Place  0.25\n4                   Park  0.00\n\n\n----Westmount----\n                       venue  freq\n0                Pizza Place  0.29\n1               Intersection  0.14\n2         Chinese Restaurant  0.14\n3             Sandwich Place  0.14\n4  Middle Eastern Restaurant  0.14\n\n\n----Weston----\n            venue  freq\n0            Park   1.0\n1     Yoga Studio   0.0\n2   Movie Theater   0.0\n3          Market   0.0\n4  Massage Studio   0.0\n\n\n----Willowdale South----\n              venue  freq\n0  Ramen Restaurant  0.10\n1       Coffee Shop  0.10\n2    Sandwich Place  0.07\n3              Caf\u00e9  0.07\n4        Restaurant  0.07\n\n\n----Willowdale West----\n           venue  freq\n0  Grocery Store   0.2\n1        Butcher   0.2\n2       Pharmacy   0.2\n3    Pizza Place   0.2\n4    Coffee Shop   0.2\n\n\n----Woburn----\n               venue  freq\n0        Coffee Shop  0.50\n1  Korean Restaurant  0.25\n2   Insurance Office  0.25\n3          Pet Store  0.00\n4      Movie Theater  0.00\n\n\n----Woodbine Gardens,Parkview Hill----\n                  venue  freq\n0  Fast Food Restaurant  0.15\n1           Pizza Place  0.15\n2  Gym / Fitness Center  0.08\n3             Gastropub  0.08\n4             Pet Store  0.08\n\n\n----Woodbine Heights----\n              venue  freq\n0          Pharmacy  0.14\n1    Cosmetics Shop  0.14\n2       Curling Ice  0.14\n3      Skating Rink  0.14\n4  Asian Restaurant  0.14\n\n\n----York Mills West----\n               venue  freq\n0               Park  0.33\n1  Electronics Store  0.33\n2               Bank  0.33\n3        Yoga Studio  0.00\n4              Motel  0.00\n\n\n"
                }
            ], 
            "execution_count": 29
        }, 
        {
            "source": "def return_most_common_venues(row, num_top_venues):\n    row_categories = row.iloc[1:]\n    row_categories_sorted = row_categories.sort_values(ascending=False)\n    \n    return row_categories_sorted.index.values[0:num_top_venues]", 
            "cell_type": "code", 
            "metadata": {}, 
            "outputs": [], 
            "execution_count": 30
        }, 
        {
            "source": "import numpy as np", 
            "cell_type": "code", 
            "metadata": {}, 
            "outputs": [], 
            "execution_count": 32
        }, 
        {
            "source": "num_top_venues = 10\n\nindicators = ['st', 'nd', 'rd']\n\ncolumns = ['Neighborhood']\nfor ind in np.arange(num_top_venues):\n    try:\n        columns.append('{}{} Most Common Venue'.format(ind+1, indicators[ind]))\n    except:\n        columns.append('{}th Most Common Venue'.format(ind+1))\n\n\nneighborhoods_venues_sorted = pd.DataFrame(columns=columns)\nneighborhoods_venues_sorted['Neighborhood'] = toronto_grouped['Neighborhood']\n\nfor ind in np.arange(toronto_grouped.shape[0]):\n    neighborhoods_venues_sorted.iloc[ind, 1:] = return_most_common_venues(toronto_grouped.iloc[ind, :], num_top_venues)\n\nneighborhoods_venues_sorted.head()", 
            "cell_type": "code", 
            "metadata": {}, 
            "outputs": [
                {
                    "output_type": "execute_result", 
                    "data": {
                        "text/plain": "                                        Neighborhood 1st Most Common Venue  \\\n0                             Adelaide,King,Richmond            Steakhouse   \n1                                          Agincourt                Lounge   \n2  Agincourt North,L'Amoreaux East,Milliken,Steel...           Coffee Shop   \n3  Albion Gardens,Beaumond Heights,Humbergate,Jam...         Grocery Store   \n4                              Alderwood,Long Branch           Pizza Place   \n\n  2nd Most Common Venue 3rd Most Common Venue 4th Most Common Venue  \\\n0                  Caf\u00e9                 Hotel      Asian Restaurant   \n1          Skating Rink        Breakfast Spot        Sandwich Place   \n2                  Park            Playground           Curling Ice   \n3            Beer Store   Fried Chicken Joint  Fast Food Restaurant   \n4        Sandwich Place           Coffee Shop    Athletics & Sports   \n\n         5th Most Common Venue        6th Most Common Venue  \\\n0                  Pizza Place                   Food Court   \n1                Women's Store  Eastern European Restaurant   \n2  Eastern European Restaurant          Dumpling Restaurant   \n3                  Coffee Shop                  Pizza Place   \n4                 Skating Rink                          Gym   \n\n  7th Most Common Venue 8th Most Common Venue 9th Most Common Venue  \\\n0    Seafood Restaurant        Breakfast Spot           Coffee Shop   \n1   Dumpling Restaurant             Drugstore               Dog Run   \n2             Drugstore               Dog Run        Discount Store   \n3        Sandwich Place              Pharmacy       Airport Service   \n4              Pharmacy                   Pub                  Pool   \n\n  10th Most Common Venue  \n0                 Lounge  \n1         Discount Store  \n2                  Diner  \n3          Deli / Bodega  \n4          Women's Store  ", 
                        "text/html": "<div>\n<style scoped>\n    .dataframe tbody tr th:only-of-type {\n        vertical-align: middle;\n    }\n\n    .dataframe tbody tr th {\n        vertical-align: top;\n    }\n\n    .dataframe thead th {\n        text-align: right;\n    }\n</style>\n<table border=\"1\" class=\"dataframe\">\n  <thead>\n    <tr style=\"text-align: right;\">\n      <th></th>\n      <th>Neighborhood</th>\n      <th>1st Most Common Venue</th>\n      <th>2nd Most Common Venue</th>\n      <th>3rd Most Common Venue</th>\n      <th>4th Most Common Venue</th>\n      <th>5th Most Common Venue</th>\n      <th>6th Most Common Venue</th>\n      <th>7th Most Common Venue</th>\n      <th>8th Most Common Venue</th>\n      <th>9th Most Common Venue</th>\n      <th>10th Most Common Venue</th>\n    </tr>\n  </thead>\n  <tbody>\n    <tr>\n      <th>0</th>\n      <td>Adelaide,King,Richmond</td>\n      <td>Steakhouse</td>\n      <td>Caf\u00e9</td>\n      <td>Hotel</td>\n      <td>Asian Restaurant</td>\n      <td>Pizza Place</td>\n      <td>Food Court</td>\n      <td>Seafood Restaurant</td>\n      <td>Breakfast Spot</td>\n      <td>Coffee Shop</td>\n      <td>Lounge</td>\n    </tr>\n    <tr>\n      <th>1</th>\n      <td>Agincourt</td>\n      <td>Lounge</td>\n      <td>Skating Rink</td>\n      <td>Breakfast Spot</td>\n      <td>Sandwich Place</td>\n      <td>Women's Store</td>\n      <td>Eastern European Restaurant</td>\n      <td>Dumpling Restaurant</td>\n      <td>Drugstore</td>\n      <td>Dog Run</td>\n      <td>Discount Store</td>\n    </tr>\n    <tr>\n      <th>2</th>\n      <td>Agincourt North,L'Amoreaux East,Milliken,Steel...</td>\n      <td>Coffee Shop</td>\n      <td>Park</td>\n      <td>Playground</td>\n      <td>Curling Ice</td>\n      <td>Eastern European Restaurant</td>\n      <td>Dumpling Restaurant</td>\n      <td>Drugstore</td>\n      <td>Dog Run</td>\n      <td>Discount Store</td>\n      <td>Diner</td>\n    </tr>\n    <tr>\n      <th>3</th>\n      <td>Albion Gardens,Beaumond Heights,Humbergate,Jam...</td>\n      <td>Grocery Store</td>\n      <td>Beer Store</td>\n      <td>Fried Chicken Joint</td>\n      <td>Fast Food Restaurant</td>\n      <td>Coffee Shop</td>\n      <td>Pizza Place</td>\n      <td>Sandwich Place</td>\n      <td>Pharmacy</td>\n      <td>Airport Service</td>\n      <td>Deli / Bodega</td>\n    </tr>\n    <tr>\n      <th>4</th>\n      <td>Alderwood,Long Branch</td>\n      <td>Pizza Place</td>\n      <td>Sandwich Place</td>\n      <td>Coffee Shop</td>\n      <td>Athletics &amp; Sports</td>\n      <td>Skating Rink</td>\n      <td>Gym</td>\n      <td>Pharmacy</td>\n      <td>Pub</td>\n      <td>Pool</td>\n      <td>Women's Store</td>\n    </tr>\n  </tbody>\n</table>\n</div>"
                    }, 
                    "execution_count": 35, 
                    "metadata": {}
                }
            ], 
            "execution_count": 35
        }, 
        {
            "source": "## Clustering", 
            "cell_type": "markdown", 
            "metadata": {}
        }, 
        {
            "source": "from sklearn.cluster import KMeans \nkclusters = 5\ntoronto_grouped_clustering = toronto_grouped.drop('Neighborhood', 1)\nkmeans = KMeans(n_clusters=kclusters, random_state=0).fit(toronto_grouped_clustering)\nkmeans.labels_[0:10] ", 
            "cell_type": "code", 
            "metadata": {}, 
            "outputs": [
                {
                    "output_type": "execute_result", 
                    "data": {
                        "text/plain": "array([2, 2, 4, 1, 1, 2, 2, 2, 2, 2], dtype=int32)"
                    }, 
                    "execution_count": 46, 
                    "metadata": {}
                }
            ], 
            "execution_count": 46
        }, 
        {
            "source": "toronto_merged = df_f\ntoronto_merged = toronto_merged.join(neighborhoods_venues_sorted.set_index('Neighborhood'), on='Neighborhood')\n\ntoronto_merged.head() ", 
            "cell_type": "code", 
            "metadata": {}, 
            "outputs": [
                {
                    "output_type": "execute_result", 
                    "data": {
                        "text/plain": "                               Neighborhood           Borough   Latitude  \\\nPostalCode                                                                 \nM3A                               Parkwoods        North York  43.753259   \nM4A                        Victoria Village        North York  43.725882   \nM5A                Harbourfront,Regent Park  Downtown Toronto  43.654260   \nM6A         Lawrence Heights,Lawrence Manor        North York  43.718518   \nM7A                            Queen's Park      Queen's Park  43.662301   \n\n            Longitude  Cluster Labels 1st Most Common Venue  \\\nPostalCode                                                    \nM3A        -79.329656             3.0                  Park   \nM4A        -79.315572             1.0           Coffee Shop   \nM5A        -79.360636             2.0           Coffee Shop   \nM6A        -79.464763             2.0        Clothing Store   \nM7A        -79.389494             2.0           Coffee Shop   \n\n             2nd Most Common Venue  3rd Most Common Venue  \\\nPostalCode                                                  \nM3A                           Pool   Fast Food Restaurant   \nM4A                    Pizza Place  Portuguese Restaurant   \nM5A                           Park                 Bakery   \nM6A         Furniture / Home Store    Arts & Crafts Store   \nM7A                            Gym    Japanese Restaurant   \n\n           4th Most Common Venue 5th Most Common Venue  \\\nPostalCode                                               \nM3A            Food & Drink Shop         Women's Store   \nM4A                 Hockey Arena           Curling Ice   \nM5A               Breakfast Spot    Mexican Restaurant   \nM6A                    Gift Shop           Event Space   \nM7A                        Diner           Yoga Studio   \n\n                  6th Most Common Venue 7th Most Common Venue  \\\nPostalCode                                                      \nM3A                         Curling Ice   Dumpling Restaurant   \nM4A         Eastern European Restaurant   Dumpling Restaurant   \nM5A                                Caf\u00e9           Yoga Studio   \nM6A                  Miscellaneous Shop           Coffee Shop   \nM7A                           Nightclub    Seafood Restaurant   \n\n           8th Most Common Venue 9th Most Common Venue 10th Most Common Venue  \nPostalCode                                                                     \nM3A                    Drugstore               Dog Run         Discount Store  \nM4A                    Drugstore               Dog Run         Discount Store  \nM5A            French Restaurant        Farmers Market                    Pub  \nM6A                     Boutique         Women's Store      Accessories Store  \nM7A                 Burger Joint         Burrito Place  Portuguese Restaurant  ", 
                        "text/html": "<div>\n<style scoped>\n    .dataframe tbody tr th:only-of-type {\n        vertical-align: middle;\n    }\n\n    .dataframe tbody tr th {\n        vertical-align: top;\n    }\n\n    .dataframe thead th {\n        text-align: right;\n    }\n</style>\n<table border=\"1\" class=\"dataframe\">\n  <thead>\n    <tr style=\"text-align: right;\">\n      <th></th>\n      <th>Neighborhood</th>\n      <th>Borough</th>\n      <th>Latitude</th>\n      <th>Longitude</th>\n      <th>Cluster Labels</th>\n      <th>1st Most Common Venue</th>\n      <th>2nd Most Common Venue</th>\n      <th>3rd Most Common Venue</th>\n      <th>4th Most Common Venue</th>\n      <th>5th Most Common Venue</th>\n      <th>6th Most Common Venue</th>\n      <th>7th Most Common Venue</th>\n      <th>8th Most Common Venue</th>\n      <th>9th Most Common Venue</th>\n      <th>10th Most Common Venue</th>\n    </tr>\n    <tr>\n      <th>PostalCode</th>\n      <th></th>\n      <th></th>\n      <th></th>\n      <th></th>\n      <th></th>\n      <th></th>\n      <th></th>\n      <th></th>\n      <th></th>\n      <th></th>\n      <th></th>\n      <th></th>\n      <th></th>\n      <th></th>\n      <th></th>\n    </tr>\n  </thead>\n  <tbody>\n    <tr>\n      <th>M3A</th>\n      <td>Parkwoods</td>\n      <td>North York</td>\n      <td>43.753259</td>\n      <td>-79.329656</td>\n      <td>3.0</td>\n      <td>Park</td>\n      <td>Pool</td>\n      <td>Fast Food Restaurant</td>\n      <td>Food &amp; Drink Shop</td>\n      <td>Women's Store</td>\n      <td>Curling Ice</td>\n      <td>Dumpling Restaurant</td>\n      <td>Drugstore</td>\n      <td>Dog Run</td>\n      <td>Discount Store</td>\n    </tr>\n    <tr>\n      <th>M4A</th>\n      <td>Victoria Village</td>\n      <td>North York</td>\n      <td>43.725882</td>\n      <td>-79.315572</td>\n      <td>1.0</td>\n      <td>Coffee Shop</td>\n      <td>Pizza Place</td>\n      <td>Portuguese Restaurant</td>\n      <td>Hockey Arena</td>\n      <td>Curling Ice</td>\n      <td>Eastern European Restaurant</td>\n      <td>Dumpling Restaurant</td>\n      <td>Drugstore</td>\n      <td>Dog Run</td>\n      <td>Discount Store</td>\n    </tr>\n    <tr>\n      <th>M5A</th>\n      <td>Harbourfront,Regent Park</td>\n      <td>Downtown Toronto</td>\n      <td>43.654260</td>\n      <td>-79.360636</td>\n      <td>2.0</td>\n      <td>Coffee Shop</td>\n      <td>Park</td>\n      <td>Bakery</td>\n      <td>Breakfast Spot</td>\n      <td>Mexican Restaurant</td>\n      <td>Caf\u00e9</td>\n      <td>Yoga Studio</td>\n      <td>French Restaurant</td>\n      <td>Farmers Market</td>\n      <td>Pub</td>\n    </tr>\n    <tr>\n      <th>M6A</th>\n      <td>Lawrence Heights,Lawrence Manor</td>\n      <td>North York</td>\n      <td>43.718518</td>\n      <td>-79.464763</td>\n      <td>2.0</td>\n      <td>Clothing Store</td>\n      <td>Furniture / Home Store</td>\n      <td>Arts &amp; Crafts Store</td>\n      <td>Gift Shop</td>\n      <td>Event Space</td>\n      <td>Miscellaneous Shop</td>\n      <td>Coffee Shop</td>\n      <td>Boutique</td>\n      <td>Women's Store</td>\n      <td>Accessories Store</td>\n    </tr>\n    <tr>\n      <th>M7A</th>\n      <td>Queen's Park</td>\n      <td>Queen's Park</td>\n      <td>43.662301</td>\n      <td>-79.389494</td>\n      <td>2.0</td>\n      <td>Coffee Shop</td>\n      <td>Gym</td>\n      <td>Japanese Restaurant</td>\n      <td>Diner</td>\n      <td>Yoga Studio</td>\n      <td>Nightclub</td>\n      <td>Seafood Restaurant</td>\n      <td>Burger Joint</td>\n      <td>Burrito Place</td>\n      <td>Portuguese Restaurant</td>\n    </tr>\n  </tbody>\n</table>\n</div>"
                    }, 
                    "execution_count": 45, 
                    "metadata": {}
                }
            ], 
            "execution_count": 45
        }, 
        {
            "source": "import matplotlib.cm as cm\nimport matplotlib.colors as colors\n\nmap_clusters = folium.Map(location=[43.65, -79.38], zoom_start=11)\n\n# set color scheme for the clusters\nx = np.arange(kclusters)\nys = [i + x + (i*x)**2 for i in range(kclusters)]\ncolors_array = cm.rainbow(np.linspace(0, 1, len(ys)))\nrainbow = [colors.rgb2hex(i) for i in colors_array]\n\n# add markers to the map\nmarkers_colors = []\nfor lat, lon, poi, cluster in zip(toronto_merged['Latitude'], toronto_merged['Longitude'], toronto_merged['Neighborhood'], toronto_merged['Cluster Labels']):\n    label = folium.Popup(str(poi) + ' Cluster ' + str(cluster), parse_html=True)\n    folium.CircleMarker(\n        [lat, lon],\n        radius=5,\n        color=rainbow[cluster-1],\n        popup=label,\n        fill=True,\n        fill_opacity=0.7).add_to(map_clusters)\n       \nmap_clusters", 
            "cell_type": "code", 
            "metadata": {}, 
            "outputs": [
                {
                    "output_type": "error", 
                    "evalue": "list indices must be integers or slices, not float", 
                    "traceback": [
                        "\u001b[0;31m---------------------------------------------------------------------------\u001b[0m", 
                        "\u001b[0;31mTypeError\u001b[0m                                 Traceback (most recent call last)", 
                        "\u001b[0;32m<ipython-input-63-8bc5d8ae2d61>\u001b[0m in \u001b[0;36m<module>\u001b[0;34m()\u001b[0m\n\u001b[1;32m     17\u001b[0m         \u001b[0;34m[\u001b[0m\u001b[0mlat\u001b[0m\u001b[0;34m,\u001b[0m \u001b[0mlon\u001b[0m\u001b[0;34m]\u001b[0m\u001b[0;34m,\u001b[0m\u001b[0;34m\u001b[0m\u001b[0m\n\u001b[1;32m     18\u001b[0m         \u001b[0mradius\u001b[0m\u001b[0;34m=\u001b[0m\u001b[0;36m5\u001b[0m\u001b[0;34m,\u001b[0m\u001b[0;34m\u001b[0m\u001b[0m\n\u001b[0;32m---> 19\u001b[0;31m         \u001b[0mcolor\u001b[0m\u001b[0;34m=\u001b[0m\u001b[0mrainbow\u001b[0m\u001b[0;34m[\u001b[0m\u001b[0mcluster\u001b[0m\u001b[0;34m-\u001b[0m\u001b[0;36m1\u001b[0m\u001b[0;34m]\u001b[0m\u001b[0;34m,\u001b[0m\u001b[0;34m\u001b[0m\u001b[0m\n\u001b[0m\u001b[1;32m     20\u001b[0m         \u001b[0mpopup\u001b[0m\u001b[0;34m=\u001b[0m\u001b[0mlabel\u001b[0m\u001b[0;34m,\u001b[0m\u001b[0;34m\u001b[0m\u001b[0m\n\u001b[1;32m     21\u001b[0m         \u001b[0mfill\u001b[0m\u001b[0;34m=\u001b[0m\u001b[0;32mTrue\u001b[0m\u001b[0;34m,\u001b[0m\u001b[0;34m\u001b[0m\u001b[0m\n", 
                        "\u001b[0;31mTypeError\u001b[0m: list indices must be integers or slices, not float"
                    ], 
                    "ename": "TypeError"
                }
            ], 
            "execution_count": 63
        }, 
        {
            "source": "", 
            "cell_type": "code", 
            "metadata": {}, 
            "outputs": [], 
            "execution_count": null
        }
    ], 
    "metadata": {
        "kernelspec": {
            "display_name": "Python 3.5", 
            "name": "python3", 
            "language": "python"
        }, 
        "language_info": {
            "mimetype": "text/x-python", 
            "nbconvert_exporter": "python", 
            "version": "3.5.5", 
            "name": "python", 
            "file_extension": ".py", 
            "pygments_lexer": "ipython3", 
            "codemirror_mode": {
                "version": 3, 
                "name": "ipython"
            }
        }
    }, 
    "nbformat": 4
}